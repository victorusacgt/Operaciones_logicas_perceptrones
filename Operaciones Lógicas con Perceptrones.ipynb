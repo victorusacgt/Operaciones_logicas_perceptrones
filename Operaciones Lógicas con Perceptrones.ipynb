{
 "cells": [
  {
   "cell_type": "markdown",
   "metadata": {},
   "source": [
    "### Victor Rene Pérez Mayen\n",
    "### 19005180\n",
    "#### Tarea No.4"
   ]
  },
  {
   "cell_type": "code",
   "execution_count": 1,
   "metadata": {},
   "outputs": [],
   "source": [
    "import numpy as np\n",
    "import pandas as pd\n",
    "import matplotlib.pyplot as plt\n",
    "import pyodbc"
   ]
  },
  {
   "cell_type": "code",
   "execution_count": 6,
   "metadata": {},
   "outputs": [],
   "source": [
    "#Función de activación para los perceptrones\n",
    "def act(x):\n",
    "    y=0\n",
    "    \n",
    "    if x > 0:\n",
    "        y = 1\n",
    "    else:\n",
    "        y = 0\n",
    "    return y"
   ]
  },
  {
   "cell_type": "code",
   "execution_count": 28,
   "metadata": {},
   "outputs": [],
   "source": [
    "#Compuerta NOT\n",
    "def comp_not(x):\n",
    "    bias=1\n",
    "    w=np.array(([-1],[1])) #peso\n",
    "    z=np.array([x,bias]) #entrada\n",
    "    out = act(np.matmul(z,w)) #salida\n",
    "    return out\n",
    "\n",
    "#Compuerta OR\n",
    "def comp_or(x_1,x_2):\n",
    "    bias=0\n",
    "    w=np.array(([1],[1],[-1])) #peso\n",
    "    z=np.array([x_1,x_2,bias]) #entrada\n",
    "    out = act(np.matmul(z,w)) #salida\n",
    "    return out\n",
    "\n",
    "#Compuerta AND\n",
    "def comp_and(x_1,x_2):\n",
    "    bias=1\n",
    "    w=np.array(([1],[1],[-1])) #peso\n",
    "    z=np.array([x_1,x_2,bias]) #entrada\n",
    "    out = act(np.matmul(z,w)) #salida\n",
    "    return out\n",
    "\n",
    "#Compuerta XOR\n",
    "def comp_xor(x_1,x_2):\n",
    "    m1=comp_and(x_1,x_2) #primera compuerta and\n",
    "    m2=comp_or(x_1,x_2) #primera compuerta or\n",
    "    m3=comp_not(m1) #compuerta nor\n",
    "    out=comp_and(m3,m2) #segunda compuerta and\n",
    "    return out"
   ]
  },
  {
   "cell_type": "code",
   "execution_count": 16,
   "metadata": {},
   "outputs": [
    {
     "name": "stdout",
     "output_type": "stream",
     "text": [
      "1 0\n"
     ]
    }
   ],
   "source": [
    "print(comp_or(0,1),comp_and(0,1))"
   ]
  },
  {
   "cell_type": "code",
   "execution_count": 27,
   "metadata": {},
   "outputs": [
    {
     "name": "stdout",
     "output_type": "stream",
     "text": [
      "0\n"
     ]
    }
   ],
   "source": [
    "print(comp_xor(1,1))"
   ]
  },
  {
   "cell_type": "code",
   "execution_count": null,
   "metadata": {},
   "outputs": [],
   "source": []
  }
 ],
 "metadata": {
  "kernelspec": {
   "display_name": "Python 3",
   "language": "python",
   "name": "python3"
  },
  "language_info": {
   "codemirror_mode": {
    "name": "ipython",
    "version": 3
   },
   "file_extension": ".py",
   "mimetype": "text/x-python",
   "name": "python",
   "nbconvert_exporter": "python",
   "pygments_lexer": "ipython3",
   "version": "3.7.3"
  }
 },
 "nbformat": 4,
 "nbformat_minor": 2
}
